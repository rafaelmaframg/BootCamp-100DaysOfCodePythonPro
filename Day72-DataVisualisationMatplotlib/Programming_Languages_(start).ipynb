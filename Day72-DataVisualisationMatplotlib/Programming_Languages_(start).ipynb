{
 "nbformat": 4,
 "nbformat_minor": 0,
 "metadata": {
  "kernelspec": {
   "display_name": "Python 3",
   "language": "python",
   "name": "python3"
  },
  "language_info": {
   "codemirror_mode": {
    "name": "ipython",
    "version": 3
   },
   "file_extension": ".py",
   "mimetype": "text/x-python",
   "name": "python",
   "nbconvert_exporter": "python",
   "pygments_lexer": "ipython3",
   "version": "3.7.3"
  },
  "colab": {
   "name": "Programming Languages (start).ipynb",
   "provenance": []
  }
 },
 "cells": [
  {
   "cell_type": "code",
   "execution_count": null,
   "outputs": [],
   "source": [],
   "metadata": {
    "collapsed": false
   }
  },
  {
   "cell_type": "markdown",
   "metadata": {
    "id": "MAAKxOwsGxuj",
    "colab_type": "text"
   },
   "source": [
    "## Get the Data\n",
    "\n",
    "Either use the provided .csv file or (optionally) get fresh (the freshest?) data from running an SQL query on StackExchange: \n",
    "\n",
    "Follow this link to run the query from [StackExchange](https://data.stackexchange.com/stackoverflow/query/675441/popular-programming-languages-per-over-time-eversql-com) to get your own .csv file\n",
    "\n",
    "<code>\n",
    "select dateadd(month, datediff(month, 0, q.CreationDate), 0) m, TagName, count(*)\n",
    "from PostTags pt\n",
    "join Posts q on q.Id=pt.PostId\n",
    "join Tags t on t.Id=pt.TagId\n",
    "where TagName in ('java','c','c++','python','c#','javascript','assembly','php','perl','ruby','visual basic','swift','r','object-c','scratch','go','swift','delphi')\n",
    "and q.CreationDate < dateadd(month, datediff(month, 0, getdate()), 0)\n",
    "group by dateadd(month, datediff(month, 0, q.CreationDate), 0), TagName\n",
    "order by dateadd(month, datediff(month, 0, q.CreationDate), 0)\n",
    "</code>"
   ]
  },
  {
   "cell_type": "markdown",
   "metadata": {
    "id": "u5KcSXt1Gxuk",
    "colab_type": "text"
   },
   "source": [
    "## Import Statements"
   ]
  },
  {
   "cell_type": "code",
   "metadata": {
    "id": "Ru4Wq-pXGxuk",
    "colab_type": "code",
    "colab": {}
   },
   "source": [
    "import pandas as pd"
   ],
   "execution_count": 1,
   "outputs": []
  },
  {
   "cell_type": "markdown",
   "metadata": {
    "id": "xEP6beuEGxun",
    "colab_type": "text"
   },
   "source": [
    "## Data Exploration"
   ]
  },
  {
   "cell_type": "markdown",
   "metadata": {
    "id": "w3Q75B4CGxun",
    "colab_type": "text"
   },
   "source": [
    "**Challenge**: Read the .csv file and store it in a Pandas dataframe"
   ]
  },
  {
   "cell_type": "code",
   "metadata": {
    "id": "Bm7hQtEGIiri",
    "colab_type": "code",
    "colab": {}
   },
   "source": [
    "df = pd.read_csv('QueryResults.csv', names=['DATE', 'TAG', 'POSTS'], header=0)\n",
    "df"
   ],
   "execution_count": 6,
   "outputs": [
    {
     "data": {
      "text/plain": "                     DATE       TAG  POSTS\n0     2008-07-01 00:00:00        c#      3\n1     2008-08-01 00:00:00  assembly      8\n2     2008-08-01 00:00:00         c     83\n3     2008-08-01 00:00:00        c#    505\n4     2008-08-01 00:00:00       c++    164\n...                   ...       ...    ...\n2477  2023-06-01 00:00:00       php   1937\n2478  2023-06-01 00:00:00    python  11455\n2479  2023-06-01 00:00:00         r   2685\n2480  2023-06-01 00:00:00      ruby    228\n2481  2023-06-01 00:00:00     swift   1145\n\n[2482 rows x 3 columns]",
      "text/html": "<div>\n<style scoped>\n    .dataframe tbody tr th:only-of-type {\n        vertical-align: middle;\n    }\n\n    .dataframe tbody tr th {\n        vertical-align: top;\n    }\n\n    .dataframe thead th {\n        text-align: right;\n    }\n</style>\n<table border=\"1\" class=\"dataframe\">\n  <thead>\n    <tr style=\"text-align: right;\">\n      <th></th>\n      <th>DATE</th>\n      <th>TAG</th>\n      <th>POSTS</th>\n    </tr>\n  </thead>\n  <tbody>\n    <tr>\n      <th>0</th>\n      <td>2008-07-01 00:00:00</td>\n      <td>c#</td>\n      <td>3</td>\n    </tr>\n    <tr>\n      <th>1</th>\n      <td>2008-08-01 00:00:00</td>\n      <td>assembly</td>\n      <td>8</td>\n    </tr>\n    <tr>\n      <th>2</th>\n      <td>2008-08-01 00:00:00</td>\n      <td>c</td>\n      <td>83</td>\n    </tr>\n    <tr>\n      <th>3</th>\n      <td>2008-08-01 00:00:00</td>\n      <td>c#</td>\n      <td>505</td>\n    </tr>\n    <tr>\n      <th>4</th>\n      <td>2008-08-01 00:00:00</td>\n      <td>c++</td>\n      <td>164</td>\n    </tr>\n    <tr>\n      <th>...</th>\n      <td>...</td>\n      <td>...</td>\n      <td>...</td>\n    </tr>\n    <tr>\n      <th>2477</th>\n      <td>2023-06-01 00:00:00</td>\n      <td>php</td>\n      <td>1937</td>\n    </tr>\n    <tr>\n      <th>2478</th>\n      <td>2023-06-01 00:00:00</td>\n      <td>python</td>\n      <td>11455</td>\n    </tr>\n    <tr>\n      <th>2479</th>\n      <td>2023-06-01 00:00:00</td>\n      <td>r</td>\n      <td>2685</td>\n    </tr>\n    <tr>\n      <th>2480</th>\n      <td>2023-06-01 00:00:00</td>\n      <td>ruby</td>\n      <td>228</td>\n    </tr>\n    <tr>\n      <th>2481</th>\n      <td>2023-06-01 00:00:00</td>\n      <td>swift</td>\n      <td>1145</td>\n    </tr>\n  </tbody>\n</table>\n<p>2482 rows × 3 columns</p>\n</div>"
     },
     "execution_count": 6,
     "metadata": {},
     "output_type": "execute_result"
    }
   ]
  },
  {
   "cell_type": "markdown",
   "metadata": {
    "id": "x2WnDM75Gxup",
    "colab_type": "text"
   },
   "source": [
    "**Challenge**: Examine the first 5 rows and the last 5 rows of the of the dataframe"
   ]
  },
  {
   "cell_type": "code",
   "metadata": {
    "id": "50oqpUxVIiJf",
    "colab_type": "code",
    "colab": {}
   },
   "source": [
    "df.head()\n",
    "df.tail()"
   ],
   "execution_count": 8,
   "outputs": [
    {
     "data": {
      "text/plain": "                     DATE     TAG  POSTS\n2477  2023-06-01 00:00:00     php   1937\n2478  2023-06-01 00:00:00  python  11455\n2479  2023-06-01 00:00:00       r   2685\n2480  2023-06-01 00:00:00    ruby    228\n2481  2023-06-01 00:00:00   swift   1145",
      "text/html": "<div>\n<style scoped>\n    .dataframe tbody tr th:only-of-type {\n        vertical-align: middle;\n    }\n\n    .dataframe tbody tr th {\n        vertical-align: top;\n    }\n\n    .dataframe thead th {\n        text-align: right;\n    }\n</style>\n<table border=\"1\" class=\"dataframe\">\n  <thead>\n    <tr style=\"text-align: right;\">\n      <th></th>\n      <th>DATE</th>\n      <th>TAG</th>\n      <th>POSTS</th>\n    </tr>\n  </thead>\n  <tbody>\n    <tr>\n      <th>2477</th>\n      <td>2023-06-01 00:00:00</td>\n      <td>php</td>\n      <td>1937</td>\n    </tr>\n    <tr>\n      <th>2478</th>\n      <td>2023-06-01 00:00:00</td>\n      <td>python</td>\n      <td>11455</td>\n    </tr>\n    <tr>\n      <th>2479</th>\n      <td>2023-06-01 00:00:00</td>\n      <td>r</td>\n      <td>2685</td>\n    </tr>\n    <tr>\n      <th>2480</th>\n      <td>2023-06-01 00:00:00</td>\n      <td>ruby</td>\n      <td>228</td>\n    </tr>\n    <tr>\n      <th>2481</th>\n      <td>2023-06-01 00:00:00</td>\n      <td>swift</td>\n      <td>1145</td>\n    </tr>\n  </tbody>\n</table>\n</div>"
     },
     "execution_count": 8,
     "metadata": {},
     "output_type": "execute_result"
    }
   ]
  },
  {
   "cell_type": "markdown",
   "metadata": {
    "id": "0o9hvVgyGxus",
    "colab_type": "text"
   },
   "source": [
    "**Challenge:** Check how many rows and how many columns there are.\n",
    "What are the dimensions of the dataframe?"
   ]
  },
  {
   "cell_type": "code",
   "execution_count": 10,
   "outputs": [
    {
     "data": {
      "text/plain": "(2482, 3)"
     },
     "execution_count": 10,
     "metadata": {},
     "output_type": "execute_result"
    }
   ],
   "source": [
    "df.shape"
   ],
   "metadata": {
    "collapsed": false
   }
  },
  {
   "cell_type": "markdown",
   "metadata": {
    "id": "ybZkNLmxGxuu",
    "colab_type": "text"
   },
   "source": [
    "**Challenge**: Count the number of entries in each column of the dataframe"
   ]
  },
  {
   "cell_type": "code",
   "metadata": {
    "id": "Sc1dmmOoIg2g",
    "colab_type": "code",
    "colab": {}
   },
   "source": [
    "df.count()"
   ],
   "execution_count": 11,
   "outputs": [
    {
     "data": {
      "text/plain": "DATE     2482\nTAG      2482\nPOSTS    2482\ndtype: int64"
     },
     "execution_count": 11,
     "metadata": {},
     "output_type": "execute_result"
    }
   ]
  },
  {
   "cell_type": "markdown",
   "metadata": {
    "id": "hlnfFsscGxuw",
    "colab_type": "text"
   },
   "source": [
    "**Challenge**: Calculate the total number of post per language.\n",
    "Which Programming language has had the highest total number of posts of all time?"
   ]
  },
  {
   "cell_type": "code",
   "metadata": {
    "id": "9-NYFONcIc1X",
    "colab_type": "code",
    "colab": {}
   },
   "source": [
    "df.groupby(\"TAG\").sum()"
   ],
   "execution_count": 15,
   "outputs": [
    {
     "data": {
      "text/plain": "              POSTS\nTAG                \nassembly      42904\nc            397097\nc#          1593993\nc++          795050\ndelphi        51007\ngo            69577\njava        1898378\njavascript  2497345\nperl          67686\nphp         1458288\npython      2140620\nr            492002\nruby         228011\nswift        327818",
      "text/html": "<div>\n<style scoped>\n    .dataframe tbody tr th:only-of-type {\n        vertical-align: middle;\n    }\n\n    .dataframe tbody tr th {\n        vertical-align: top;\n    }\n\n    .dataframe thead th {\n        text-align: right;\n    }\n</style>\n<table border=\"1\" class=\"dataframe\">\n  <thead>\n    <tr style=\"text-align: right;\">\n      <th></th>\n      <th>POSTS</th>\n    </tr>\n    <tr>\n      <th>TAG</th>\n      <th></th>\n    </tr>\n  </thead>\n  <tbody>\n    <tr>\n      <th>assembly</th>\n      <td>42904</td>\n    </tr>\n    <tr>\n      <th>c</th>\n      <td>397097</td>\n    </tr>\n    <tr>\n      <th>c#</th>\n      <td>1593993</td>\n    </tr>\n    <tr>\n      <th>c++</th>\n      <td>795050</td>\n    </tr>\n    <tr>\n      <th>delphi</th>\n      <td>51007</td>\n    </tr>\n    <tr>\n      <th>go</th>\n      <td>69577</td>\n    </tr>\n    <tr>\n      <th>java</th>\n      <td>1898378</td>\n    </tr>\n    <tr>\n      <th>javascript</th>\n      <td>2497345</td>\n    </tr>\n    <tr>\n      <th>perl</th>\n      <td>67686</td>\n    </tr>\n    <tr>\n      <th>php</th>\n      <td>1458288</td>\n    </tr>\n    <tr>\n      <th>python</th>\n      <td>2140620</td>\n    </tr>\n    <tr>\n      <th>r</th>\n      <td>492002</td>\n    </tr>\n    <tr>\n      <th>ruby</th>\n      <td>228011</td>\n    </tr>\n    <tr>\n      <th>swift</th>\n      <td>327818</td>\n    </tr>\n  </tbody>\n</table>\n</div>"
     },
     "execution_count": 15,
     "metadata": {},
     "output_type": "execute_result"
    }
   ]
  },
  {
   "cell_type": "markdown",
   "metadata": {
    "id": "iVCesB49Gxuz",
    "colab_type": "text"
   },
   "source": [
    "Some languages are older (e.g., C) and other languages are newer (e.g., Swift). The dataset starts in September 2008.\n",
    "\n",
    "**Challenge**: How many months of data exist per language? Which language had the fewest months with an entry? \n"
   ]
  },
  {
   "cell_type": "code",
   "metadata": {
    "id": "hDT4JlJNJfgQ",
    "colab_type": "code",
    "colab": {}
   },
   "source": [
    "df.groupby('TAG').count()"
   ],
   "execution_count": 16,
   "outputs": [
    {
     "data": {
      "text/plain": "            DATE  POSTS\nTAG                    \nassembly     179    179\nc            179    179\nc#           180    180\nc++          179    179\ndelphi       179    179\ngo           164    164\njava         179    179\njavascript   179    179\nperl         179    179\nphp          179    179\npython       179    179\nr            177    177\nruby         179    179\nswift        171    171",
      "text/html": "<div>\n<style scoped>\n    .dataframe tbody tr th:only-of-type {\n        vertical-align: middle;\n    }\n\n    .dataframe tbody tr th {\n        vertical-align: top;\n    }\n\n    .dataframe thead th {\n        text-align: right;\n    }\n</style>\n<table border=\"1\" class=\"dataframe\">\n  <thead>\n    <tr style=\"text-align: right;\">\n      <th></th>\n      <th>DATE</th>\n      <th>POSTS</th>\n    </tr>\n    <tr>\n      <th>TAG</th>\n      <th></th>\n      <th></th>\n    </tr>\n  </thead>\n  <tbody>\n    <tr>\n      <th>assembly</th>\n      <td>179</td>\n      <td>179</td>\n    </tr>\n    <tr>\n      <th>c</th>\n      <td>179</td>\n      <td>179</td>\n    </tr>\n    <tr>\n      <th>c#</th>\n      <td>180</td>\n      <td>180</td>\n    </tr>\n    <tr>\n      <th>c++</th>\n      <td>179</td>\n      <td>179</td>\n    </tr>\n    <tr>\n      <th>delphi</th>\n      <td>179</td>\n      <td>179</td>\n    </tr>\n    <tr>\n      <th>go</th>\n      <td>164</td>\n      <td>164</td>\n    </tr>\n    <tr>\n      <th>java</th>\n      <td>179</td>\n      <td>179</td>\n    </tr>\n    <tr>\n      <th>javascript</th>\n      <td>179</td>\n      <td>179</td>\n    </tr>\n    <tr>\n      <th>perl</th>\n      <td>179</td>\n      <td>179</td>\n    </tr>\n    <tr>\n      <th>php</th>\n      <td>179</td>\n      <td>179</td>\n    </tr>\n    <tr>\n      <th>python</th>\n      <td>179</td>\n      <td>179</td>\n    </tr>\n    <tr>\n      <th>r</th>\n      <td>177</td>\n      <td>177</td>\n    </tr>\n    <tr>\n      <th>ruby</th>\n      <td>179</td>\n      <td>179</td>\n    </tr>\n    <tr>\n      <th>swift</th>\n      <td>171</td>\n      <td>171</td>\n    </tr>\n  </tbody>\n</table>\n</div>"
     },
     "execution_count": 16,
     "metadata": {},
     "output_type": "execute_result"
    }
   ]
  },
  {
   "cell_type": "markdown",
   "metadata": {
    "id": "arguGp3ZGxu1",
    "colab_type": "text"
   },
   "source": [
    "## Data Cleaning\n",
    "\n",
    "Let's fix the date format to make it more readable. We need to use Pandas to change format from a string of \"2008-07-01 00:00:00\" to a datetime object with the format of \"2008-07-01\""
   ]
  },
  {
   "cell_type": "code",
   "metadata": {
    "id": "5nh5a4UtGxu1",
    "colab_type": "code",
    "colab": {}
   },
   "source": [
    "df[\"DATE\"][1]"
   ],
   "execution_count": 17,
   "outputs": [
    {
     "data": {
      "text/plain": "'2008-08-01 00:00:00'"
     },
     "execution_count": 17,
     "metadata": {},
     "output_type": "execute_result"
    }
   ]
  },
  {
   "cell_type": "code",
   "metadata": {
    "id": "016H-Fy4Gxu3",
    "colab_type": "code",
    "colab": {}
   },
   "source": [
    "df.DATE[1]"
   ],
   "execution_count": 18,
   "outputs": [
    {
     "data": {
      "text/plain": "'2008-08-01 00:00:00'"
     },
     "execution_count": 18,
     "metadata": {},
     "output_type": "execute_result"
    }
   ]
  },
  {
   "cell_type": "code",
   "metadata": {
    "id": "4EiSd7pdGxu5",
    "colab_type": "code",
    "colab": {}
   },
   "source": [
    "type(df[\"DATE\"][1])"
   ],
   "execution_count": 19,
   "outputs": [
    {
     "data": {
      "text/plain": "str"
     },
     "execution_count": 19,
     "metadata": {},
     "output_type": "execute_result"
    }
   ]
  },
  {
   "cell_type": "markdown",
   "metadata": {
    "id": "rWAV6tuzGxu6",
    "colab_type": "text"
   },
   "source": [
    "## Data Manipulation\n",
    "\n"
   ]
  },
  {
   "cell_type": "code",
   "metadata": {
    "id": "aHhbulJaGxu7",
    "colab_type": "code",
    "colab": {}
   },
   "source": [
    "df.DATE = pd.to_datetime(df.DATE)\n",
    "df.head()"
   ],
   "execution_count": 20,
   "outputs": [
    {
     "data": {
      "text/plain": "        DATE       TAG  POSTS\n0 2008-07-01        c#      3\n1 2008-08-01  assembly      8\n2 2008-08-01         c     83\n3 2008-08-01        c#    505\n4 2008-08-01       c++    164",
      "text/html": "<div>\n<style scoped>\n    .dataframe tbody tr th:only-of-type {\n        vertical-align: middle;\n    }\n\n    .dataframe tbody tr th {\n        vertical-align: top;\n    }\n\n    .dataframe thead th {\n        text-align: right;\n    }\n</style>\n<table border=\"1\" class=\"dataframe\">\n  <thead>\n    <tr style=\"text-align: right;\">\n      <th></th>\n      <th>DATE</th>\n      <th>TAG</th>\n      <th>POSTS</th>\n    </tr>\n  </thead>\n  <tbody>\n    <tr>\n      <th>0</th>\n      <td>2008-07-01</td>\n      <td>c#</td>\n      <td>3</td>\n    </tr>\n    <tr>\n      <th>1</th>\n      <td>2008-08-01</td>\n      <td>assembly</td>\n      <td>8</td>\n    </tr>\n    <tr>\n      <th>2</th>\n      <td>2008-08-01</td>\n      <td>c</td>\n      <td>83</td>\n    </tr>\n    <tr>\n      <th>3</th>\n      <td>2008-08-01</td>\n      <td>c#</td>\n      <td>505</td>\n    </tr>\n    <tr>\n      <th>4</th>\n      <td>2008-08-01</td>\n      <td>c++</td>\n      <td>164</td>\n    </tr>\n  </tbody>\n</table>\n</div>"
     },
     "execution_count": 20,
     "metadata": {},
     "output_type": "execute_result"
    }
   ]
  },
  {
   "cell_type": "markdown",
   "metadata": {
    "id": "RWKcVIyFKwHM",
    "colab_type": "text"
   },
   "source": [
    "**Challenge**: What are the dimensions of our new dataframe? How many rows and columns does it have? Print out the column names and print out the first 5 rows of the dataframe."
   ]
  },
  {
   "cell_type": "code",
   "metadata": {
    "id": "v-u4FcLXGxu9",
    "colab_type": "code",
    "colab": {}
   },
   "source": [
    "reshaped_df = df.pivot(index='DATE', columns='TAG', values='POSTS')\n",
    "reshaped_df.fillna(0, inplace=True)\n",
    "reshaped_df"
   ],
   "execution_count": 30,
   "outputs": [
    {
     "data": {
      "text/plain": "TAG         assembly       c      c#     c++  delphi     go    java  \\\nDATE                                                                  \n2008-07-01       0.0     0.0     3.0     0.0     0.0    0.0     0.0   \n2008-08-01       8.0    83.0   505.0   164.0    14.0    0.0   222.0   \n2008-09-01      28.0   320.0  1641.0   754.0   104.0    0.0  1129.0   \n2008-10-01      16.0   302.0  1988.0   807.0   112.0    0.0  1149.0   \n2008-11-01      16.0   258.0  1731.0   734.0   141.0    0.0   956.0   \n...              ...     ...     ...     ...     ...    ...     ...   \n2023-02-01     188.0  1309.0  4763.0  2219.0   133.0  659.0  5189.0   \n2023-03-01     180.0  1265.0  4910.0  2572.0   143.0  639.0  5538.0   \n2023-04-01     197.0  1190.0  3850.0  1967.0   121.0  516.0  4498.0   \n2023-05-01     176.0  1051.0  3848.0  1785.0   115.0  427.0  4201.0   \n2023-06-01     157.0   899.0  3867.0  1851.0   118.0  529.0  4379.0   \n\nTAG         javascript   perl     php   python       r   ruby   swift  \nDATE                                                                   \n2008-07-01         0.0    0.0     0.0      0.0     0.0    0.0     0.0  \n2008-08-01       163.0   28.0   158.0    120.0     0.0   70.0     0.0  \n2008-09-01       634.0  130.0   475.0    537.0     6.0  287.0     0.0  \n2008-10-01       722.0  128.0   610.0    506.0     0.0  247.0     0.0  \n2008-11-01       580.0   97.0   499.0    449.0     1.0  157.0     0.0  \n...                ...    ...     ...      ...     ...    ...     ...  \n2023-02-01     10449.0   79.0  2427.0  15717.0  3803.0  340.0  1296.0  \n2023-03-01     10541.0   95.0  2282.0  15565.0  3832.0  301.0  1367.0  \n2023-04-01      8317.0   56.0  1944.0  12447.0  3107.0  220.0  1098.0  \n2023-05-01      7810.0   54.0  1977.0  11835.0  2867.0  256.0  1003.0  \n2023-06-01      7636.0   54.0  1937.0  11455.0  2685.0  228.0  1145.0  \n\n[180 rows x 14 columns]",
      "text/html": "<div>\n<style scoped>\n    .dataframe tbody tr th:only-of-type {\n        vertical-align: middle;\n    }\n\n    .dataframe tbody tr th {\n        vertical-align: top;\n    }\n\n    .dataframe thead th {\n        text-align: right;\n    }\n</style>\n<table border=\"1\" class=\"dataframe\">\n  <thead>\n    <tr style=\"text-align: right;\">\n      <th>TAG</th>\n      <th>assembly</th>\n      <th>c</th>\n      <th>c#</th>\n      <th>c++</th>\n      <th>delphi</th>\n      <th>go</th>\n      <th>java</th>\n      <th>javascript</th>\n      <th>perl</th>\n      <th>php</th>\n      <th>python</th>\n      <th>r</th>\n      <th>ruby</th>\n      <th>swift</th>\n    </tr>\n    <tr>\n      <th>DATE</th>\n      <th></th>\n      <th></th>\n      <th></th>\n      <th></th>\n      <th></th>\n      <th></th>\n      <th></th>\n      <th></th>\n      <th></th>\n      <th></th>\n      <th></th>\n      <th></th>\n      <th></th>\n      <th></th>\n    </tr>\n  </thead>\n  <tbody>\n    <tr>\n      <th>2008-07-01</th>\n      <td>0.0</td>\n      <td>0.0</td>\n      <td>3.0</td>\n      <td>0.0</td>\n      <td>0.0</td>\n      <td>0.0</td>\n      <td>0.0</td>\n      <td>0.0</td>\n      <td>0.0</td>\n      <td>0.0</td>\n      <td>0.0</td>\n      <td>0.0</td>\n      <td>0.0</td>\n      <td>0.0</td>\n    </tr>\n    <tr>\n      <th>2008-08-01</th>\n      <td>8.0</td>\n      <td>83.0</td>\n      <td>505.0</td>\n      <td>164.0</td>\n      <td>14.0</td>\n      <td>0.0</td>\n      <td>222.0</td>\n      <td>163.0</td>\n      <td>28.0</td>\n      <td>158.0</td>\n      <td>120.0</td>\n      <td>0.0</td>\n      <td>70.0</td>\n      <td>0.0</td>\n    </tr>\n    <tr>\n      <th>2008-09-01</th>\n      <td>28.0</td>\n      <td>320.0</td>\n      <td>1641.0</td>\n      <td>754.0</td>\n      <td>104.0</td>\n      <td>0.0</td>\n      <td>1129.0</td>\n      <td>634.0</td>\n      <td>130.0</td>\n      <td>475.0</td>\n      <td>537.0</td>\n      <td>6.0</td>\n      <td>287.0</td>\n      <td>0.0</td>\n    </tr>\n    <tr>\n      <th>2008-10-01</th>\n      <td>16.0</td>\n      <td>302.0</td>\n      <td>1988.0</td>\n      <td>807.0</td>\n      <td>112.0</td>\n      <td>0.0</td>\n      <td>1149.0</td>\n      <td>722.0</td>\n      <td>128.0</td>\n      <td>610.0</td>\n      <td>506.0</td>\n      <td>0.0</td>\n      <td>247.0</td>\n      <td>0.0</td>\n    </tr>\n    <tr>\n      <th>2008-11-01</th>\n      <td>16.0</td>\n      <td>258.0</td>\n      <td>1731.0</td>\n      <td>734.0</td>\n      <td>141.0</td>\n      <td>0.0</td>\n      <td>956.0</td>\n      <td>580.0</td>\n      <td>97.0</td>\n      <td>499.0</td>\n      <td>449.0</td>\n      <td>1.0</td>\n      <td>157.0</td>\n      <td>0.0</td>\n    </tr>\n    <tr>\n      <th>...</th>\n      <td>...</td>\n      <td>...</td>\n      <td>...</td>\n      <td>...</td>\n      <td>...</td>\n      <td>...</td>\n      <td>...</td>\n      <td>...</td>\n      <td>...</td>\n      <td>...</td>\n      <td>...</td>\n      <td>...</td>\n      <td>...</td>\n      <td>...</td>\n    </tr>\n    <tr>\n      <th>2023-02-01</th>\n      <td>188.0</td>\n      <td>1309.0</td>\n      <td>4763.0</td>\n      <td>2219.0</td>\n      <td>133.0</td>\n      <td>659.0</td>\n      <td>5189.0</td>\n      <td>10449.0</td>\n      <td>79.0</td>\n      <td>2427.0</td>\n      <td>15717.0</td>\n      <td>3803.0</td>\n      <td>340.0</td>\n      <td>1296.0</td>\n    </tr>\n    <tr>\n      <th>2023-03-01</th>\n      <td>180.0</td>\n      <td>1265.0</td>\n      <td>4910.0</td>\n      <td>2572.0</td>\n      <td>143.0</td>\n      <td>639.0</td>\n      <td>5538.0</td>\n      <td>10541.0</td>\n      <td>95.0</td>\n      <td>2282.0</td>\n      <td>15565.0</td>\n      <td>3832.0</td>\n      <td>301.0</td>\n      <td>1367.0</td>\n    </tr>\n    <tr>\n      <th>2023-04-01</th>\n      <td>197.0</td>\n      <td>1190.0</td>\n      <td>3850.0</td>\n      <td>1967.0</td>\n      <td>121.0</td>\n      <td>516.0</td>\n      <td>4498.0</td>\n      <td>8317.0</td>\n      <td>56.0</td>\n      <td>1944.0</td>\n      <td>12447.0</td>\n      <td>3107.0</td>\n      <td>220.0</td>\n      <td>1098.0</td>\n    </tr>\n    <tr>\n      <th>2023-05-01</th>\n      <td>176.0</td>\n      <td>1051.0</td>\n      <td>3848.0</td>\n      <td>1785.0</td>\n      <td>115.0</td>\n      <td>427.0</td>\n      <td>4201.0</td>\n      <td>7810.0</td>\n      <td>54.0</td>\n      <td>1977.0</td>\n      <td>11835.0</td>\n      <td>2867.0</td>\n      <td>256.0</td>\n      <td>1003.0</td>\n    </tr>\n    <tr>\n      <th>2023-06-01</th>\n      <td>157.0</td>\n      <td>899.0</td>\n      <td>3867.0</td>\n      <td>1851.0</td>\n      <td>118.0</td>\n      <td>529.0</td>\n      <td>4379.0</td>\n      <td>7636.0</td>\n      <td>54.0</td>\n      <td>1937.0</td>\n      <td>11455.0</td>\n      <td>2685.0</td>\n      <td>228.0</td>\n      <td>1145.0</td>\n    </tr>\n  </tbody>\n</table>\n<p>180 rows × 14 columns</p>\n</div>"
     },
     "execution_count": 30,
     "metadata": {},
     "output_type": "execute_result"
    }
   ]
  },
  {
   "cell_type": "code",
   "metadata": {
    "id": "NUyBcaMMGxu-",
    "colab_type": "code",
    "colab": {}
   },
   "source": [
    "reshaped_df.isna().values.any()"
   ],
   "execution_count": 31,
   "outputs": [
    {
     "data": {
      "text/plain": "False"
     },
     "execution_count": 31,
     "metadata": {},
     "output_type": "execute_result"
    }
   ]
  },
  {
   "cell_type": "code",
   "metadata": {
    "id": "LnUIOL3LGxvA",
    "colab_type": "code",
    "colab": {}
   },
   "source": [],
   "execution_count": 5,
   "outputs": []
  },
  {
   "cell_type": "markdown",
   "metadata": {
    "id": "BoDCuRU0GxvC",
    "colab_type": "text"
   },
   "source": [
    "**Challenge**: Count the number of entries per programming language. Why might the number of entries be different? "
   ]
  },
  {
   "cell_type": "code",
   "metadata": {
    "id": "-peEFgaMGxvE",
    "colab_type": "code",
    "colab": {}
   },
   "source": [],
   "execution_count": 5,
   "outputs": []
  },
  {
   "cell_type": "code",
   "metadata": {
    "id": "01f2BCF8GxvG",
    "colab_type": "code",
    "colab": {}
   },
   "source": [],
   "execution_count": 5,
   "outputs": []
  },
  {
   "cell_type": "code",
   "metadata": {
    "id": "KooRRxAdGxvI",
    "colab_type": "code",
    "colab": {}
   },
   "source": [],
   "execution_count": 5,
   "outputs": []
  },
  {
   "cell_type": "markdown",
   "metadata": {
    "id": "8xU7l_f4GxvK",
    "colab_type": "text"
   },
   "source": [
    "## Data Visualisaton with with Matplotlib\n"
   ]
  },
  {
   "cell_type": "markdown",
   "metadata": {
    "id": "njnNXTlhGxvK",
    "colab_type": "text"
   },
   "source": [
    "**Challenge**: Use the [matplotlib documentation](https://matplotlib.org/3.2.1/api/_as_gen/matplotlib.pyplot.plot.html#matplotlib.pyplot.plot) to plot a single programming language (e.g., java) on a chart."
   ]
  },
  {
   "cell_type": "code",
   "metadata": {
    "id": "S0OS8T8iGxvL",
    "colab_type": "code",
    "colab": {}
   },
   "source": [],
   "execution_count": 5,
   "outputs": []
  },
  {
   "cell_type": "code",
   "metadata": {
    "id": "EU6AV1l9GxvM",
    "colab_type": "code",
    "colab": {}
   },
   "source": [],
   "execution_count": 5,
   "outputs": []
  },
  {
   "cell_type": "code",
   "metadata": {
    "id": "_Qzzg6b_GxvO",
    "colab_type": "code",
    "colab": {}
   },
   "source": [],
   "execution_count": 5,
   "outputs": []
  },
  {
   "cell_type": "markdown",
   "metadata": {
    "id": "Sm2DL5tZGxvQ",
    "colab_type": "text"
   },
   "source": [
    "**Challenge**: Show two line (e.g. for Java and Python) on the same chart."
   ]
  },
  {
   "cell_type": "code",
   "metadata": {
    "id": "T-0vClQSGxvQ",
    "colab_type": "code",
    "colab": {}
   },
   "source": [],
   "execution_count": 5,
   "outputs": []
  },
  {
   "cell_type": "markdown",
   "metadata": {
    "id": "3jSjfPy7GxvY",
    "colab_type": "text"
   },
   "source": [
    "# Smoothing out Time Series Data\n",
    "\n",
    "Time series data can be quite noisy, with a lot of up and down spikes. To better see a trend we can plot an average of, say 6 or 12 observations. This is called the rolling mean. We calculate the average in a window of time and move it forward by one overservation. Pandas has two handy methods already built in to work this out: [rolling()](https://pandas.pydata.org/pandas-docs/stable/reference/api/pandas.DataFrame.rolling.html) and [mean()](https://pandas.pydata.org/pandas-docs/stable/reference/api/pandas.core.window.rolling.Rolling.mean.html). "
   ]
  },
  {
   "cell_type": "code",
   "metadata": {
    "id": "s3WYd3OgGxvc",
    "colab_type": "code",
    "colab": {}
   },
   "source": [],
   "execution_count": null,
   "outputs": []
  },
  {
   "cell_type": "code",
   "metadata": {
    "id": "WMJOX8Y2Gxvd",
    "colab_type": "code",
    "colab": {}
   },
   "source": [],
   "execution_count": null,
   "outputs": []
  },
  {
   "cell_type": "code",
   "metadata": {
    "id": "fAvvarA7Gxvf",
    "colab_type": "code",
    "colab": {}
   },
   "source": [],
   "execution_count": null,
   "outputs": []
  },
  {
   "cell_type": "code",
   "metadata": {
    "id": "Gm0Ww0S4Gxvg",
    "colab_type": "code",
    "colab": {}
   },
   "source": [],
   "execution_count": null,
   "outputs": []
  }
 ]
}
