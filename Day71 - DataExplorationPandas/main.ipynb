{
 "cells": [
  {
   "cell_type": "code",
   "execution_count": 1,
   "metadata": {
    "collapsed": true
   },
   "outputs": [],
   "source": [
    "import pandas as pd"
   ]
  },
  {
   "cell_type": "code",
   "execution_count": 4,
   "outputs": [],
   "source": [
    "df = pd.read_csv('salaries_by_college_major.csv')"
   ],
   "metadata": {
    "collapsed": false
   }
  },
  {
   "cell_type": "code",
   "execution_count": 5,
   "outputs": [
    {
     "data": {
      "text/plain": "(51, 6)"
     },
     "execution_count": 5,
     "metadata": {},
     "output_type": "execute_result"
    }
   ],
   "source": [
    "df.shape"
   ],
   "metadata": {
    "collapsed": false
   }
  },
  {
   "cell_type": "code",
   "execution_count": 6,
   "outputs": [
    {
     "data": {
      "text/plain": "     Undergraduate Major  Starting Median Salary  Mid-Career Median Salary   \n0             Accounting                 46000.0                   77100.0  \\\n1  Aerospace Engineering                 57700.0                  101000.0   \n2            Agriculture                 42600.0                   71900.0   \n3           Anthropology                 36800.0                   61500.0   \n4           Architecture                 41600.0                   76800.0   \n\n   Mid-Career 10th Percentile Salary  Mid-Career 90th Percentile Salary   \n0                            42200.0                           152000.0  \\\n1                            64300.0                           161000.0   \n2                            36300.0                           150000.0   \n3                            33800.0                           138000.0   \n4                            50600.0                           136000.0   \n\n      Group  \n0  Business  \n1      STEM  \n2  Business  \n3      HASS  \n4  Business  ",
      "text/html": "<div>\n<style scoped>\n    .dataframe tbody tr th:only-of-type {\n        vertical-align: middle;\n    }\n\n    .dataframe tbody tr th {\n        vertical-align: top;\n    }\n\n    .dataframe thead th {\n        text-align: right;\n    }\n</style>\n<table border=\"1\" class=\"dataframe\">\n  <thead>\n    <tr style=\"text-align: right;\">\n      <th></th>\n      <th>Undergraduate Major</th>\n      <th>Starting Median Salary</th>\n      <th>Mid-Career Median Salary</th>\n      <th>Mid-Career 10th Percentile Salary</th>\n      <th>Mid-Career 90th Percentile Salary</th>\n      <th>Group</th>\n    </tr>\n  </thead>\n  <tbody>\n    <tr>\n      <th>0</th>\n      <td>Accounting</td>\n      <td>46000.0</td>\n      <td>77100.0</td>\n      <td>42200.0</td>\n      <td>152000.0</td>\n      <td>Business</td>\n    </tr>\n    <tr>\n      <th>1</th>\n      <td>Aerospace Engineering</td>\n      <td>57700.0</td>\n      <td>101000.0</td>\n      <td>64300.0</td>\n      <td>161000.0</td>\n      <td>STEM</td>\n    </tr>\n    <tr>\n      <th>2</th>\n      <td>Agriculture</td>\n      <td>42600.0</td>\n      <td>71900.0</td>\n      <td>36300.0</td>\n      <td>150000.0</td>\n      <td>Business</td>\n    </tr>\n    <tr>\n      <th>3</th>\n      <td>Anthropology</td>\n      <td>36800.0</td>\n      <td>61500.0</td>\n      <td>33800.0</td>\n      <td>138000.0</td>\n      <td>HASS</td>\n    </tr>\n    <tr>\n      <th>4</th>\n      <td>Architecture</td>\n      <td>41600.0</td>\n      <td>76800.0</td>\n      <td>50600.0</td>\n      <td>136000.0</td>\n      <td>Business</td>\n    </tr>\n  </tbody>\n</table>\n</div>"
     },
     "execution_count": 6,
     "metadata": {},
     "output_type": "execute_result"
    }
   ],
   "source": [
    "df.head()"
   ],
   "metadata": {
    "collapsed": false
   }
  },
  {
   "cell_type": "code",
   "execution_count": 7,
   "outputs": [
    {
     "data": {
      "text/plain": "Index(['Undergraduate Major', 'Starting Median Salary',\n       'Mid-Career Median Salary', 'Mid-Career 10th Percentile Salary',\n       'Mid-Career 90th Percentile Salary', 'Group'],\n      dtype='object')"
     },
     "execution_count": 7,
     "metadata": {},
     "output_type": "execute_result"
    }
   ],
   "source": [
    "df.columns"
   ],
   "metadata": {
    "collapsed": false
   }
  },
  {
   "cell_type": "code",
   "execution_count": 8,
   "outputs": [
    {
     "data": {
      "text/plain": "    Undergraduate Major  Starting Median Salary  Mid-Career Median Salary   \n0                 False                   False                     False  \\\n1                 False                   False                     False   \n2                 False                   False                     False   \n3                 False                   False                     False   \n4                 False                   False                     False   \n5                 False                   False                     False   \n6                 False                   False                     False   \n7                 False                   False                     False   \n8                 False                   False                     False   \n9                 False                   False                     False   \n10                False                   False                     False   \n11                False                   False                     False   \n12                False                   False                     False   \n13                False                   False                     False   \n14                False                   False                     False   \n15                False                   False                     False   \n16                False                   False                     False   \n17                False                   False                     False   \n18                False                   False                     False   \n19                False                   False                     False   \n20                False                   False                     False   \n21                False                   False                     False   \n22                False                   False                     False   \n23                False                   False                     False   \n24                False                   False                     False   \n25                False                   False                     False   \n26                False                   False                     False   \n27                False                   False                     False   \n28                False                   False                     False   \n29                False                   False                     False   \n30                False                   False                     False   \n31                False                   False                     False   \n32                False                   False                     False   \n33                False                   False                     False   \n34                False                   False                     False   \n35                False                   False                     False   \n36                False                   False                     False   \n37                False                   False                     False   \n38                False                   False                     False   \n39                False                   False                     False   \n40                False                   False                     False   \n41                False                   False                     False   \n42                False                   False                     False   \n43                False                   False                     False   \n44                False                   False                     False   \n45                False                   False                     False   \n46                False                   False                     False   \n47                False                   False                     False   \n48                False                   False                     False   \n49                False                   False                     False   \n50                False                    True                      True   \n\n    Mid-Career 10th Percentile Salary  Mid-Career 90th Percentile Salary   \n0                               False                              False  \\\n1                               False                              False   \n2                               False                              False   \n3                               False                              False   \n4                               False                              False   \n5                               False                              False   \n6                               False                              False   \n7                               False                              False   \n8                               False                              False   \n9                               False                              False   \n10                              False                              False   \n11                              False                              False   \n12                              False                              False   \n13                              False                              False   \n14                              False                              False   \n15                              False                              False   \n16                              False                              False   \n17                              False                              False   \n18                              False                              False   \n19                              False                              False   \n20                              False                              False   \n21                              False                              False   \n22                              False                              False   \n23                              False                              False   \n24                              False                              False   \n25                              False                              False   \n26                              False                              False   \n27                              False                              False   \n28                              False                              False   \n29                              False                              False   \n30                              False                              False   \n31                              False                              False   \n32                              False                              False   \n33                              False                              False   \n34                              False                              False   \n35                              False                              False   \n36                              False                              False   \n37                              False                              False   \n38                              False                              False   \n39                              False                              False   \n40                              False                              False   \n41                              False                              False   \n42                              False                              False   \n43                              False                              False   \n44                              False                              False   \n45                              False                              False   \n46                              False                              False   \n47                              False                              False   \n48                              False                              False   \n49                              False                              False   \n50                               True                               True   \n\n    Group  \n0   False  \n1   False  \n2   False  \n3   False  \n4   False  \n5   False  \n6   False  \n7   False  \n8   False  \n9   False  \n10  False  \n11  False  \n12  False  \n13  False  \n14  False  \n15  False  \n16  False  \n17  False  \n18  False  \n19  False  \n20  False  \n21  False  \n22  False  \n23  False  \n24  False  \n25  False  \n26  False  \n27  False  \n28  False  \n29  False  \n30  False  \n31  False  \n32  False  \n33  False  \n34  False  \n35  False  \n36  False  \n37  False  \n38  False  \n39  False  \n40  False  \n41  False  \n42  False  \n43  False  \n44  False  \n45  False  \n46  False  \n47  False  \n48  False  \n49  False  \n50   True  ",
      "text/html": "<div>\n<style scoped>\n    .dataframe tbody tr th:only-of-type {\n        vertical-align: middle;\n    }\n\n    .dataframe tbody tr th {\n        vertical-align: top;\n    }\n\n    .dataframe thead th {\n        text-align: right;\n    }\n</style>\n<table border=\"1\" class=\"dataframe\">\n  <thead>\n    <tr style=\"text-align: right;\">\n      <th></th>\n      <th>Undergraduate Major</th>\n      <th>Starting Median Salary</th>\n      <th>Mid-Career Median Salary</th>\n      <th>Mid-Career 10th Percentile Salary</th>\n      <th>Mid-Career 90th Percentile Salary</th>\n      <th>Group</th>\n    </tr>\n  </thead>\n  <tbody>\n    <tr>\n      <th>0</th>\n      <td>False</td>\n      <td>False</td>\n      <td>False</td>\n      <td>False</td>\n      <td>False</td>\n      <td>False</td>\n    </tr>\n    <tr>\n      <th>1</th>\n      <td>False</td>\n      <td>False</td>\n      <td>False</td>\n      <td>False</td>\n      <td>False</td>\n      <td>False</td>\n    </tr>\n    <tr>\n      <th>2</th>\n      <td>False</td>\n      <td>False</td>\n      <td>False</td>\n      <td>False</td>\n      <td>False</td>\n      <td>False</td>\n    </tr>\n    <tr>\n      <th>3</th>\n      <td>False</td>\n      <td>False</td>\n      <td>False</td>\n      <td>False</td>\n      <td>False</td>\n      <td>False</td>\n    </tr>\n    <tr>\n      <th>4</th>\n      <td>False</td>\n      <td>False</td>\n      <td>False</td>\n      <td>False</td>\n      <td>False</td>\n      <td>False</td>\n    </tr>\n    <tr>\n      <th>5</th>\n      <td>False</td>\n      <td>False</td>\n      <td>False</td>\n      <td>False</td>\n      <td>False</td>\n      <td>False</td>\n    </tr>\n    <tr>\n      <th>6</th>\n      <td>False</td>\n      <td>False</td>\n      <td>False</td>\n      <td>False</td>\n      <td>False</td>\n      <td>False</td>\n    </tr>\n    <tr>\n      <th>7</th>\n      <td>False</td>\n      <td>False</td>\n      <td>False</td>\n      <td>False</td>\n      <td>False</td>\n      <td>False</td>\n    </tr>\n    <tr>\n      <th>8</th>\n      <td>False</td>\n      <td>False</td>\n      <td>False</td>\n      <td>False</td>\n      <td>False</td>\n      <td>False</td>\n    </tr>\n    <tr>\n      <th>9</th>\n      <td>False</td>\n      <td>False</td>\n      <td>False</td>\n      <td>False</td>\n      <td>False</td>\n      <td>False</td>\n    </tr>\n    <tr>\n      <th>10</th>\n      <td>False</td>\n      <td>False</td>\n      <td>False</td>\n      <td>False</td>\n      <td>False</td>\n      <td>False</td>\n    </tr>\n    <tr>\n      <th>11</th>\n      <td>False</td>\n      <td>False</td>\n      <td>False</td>\n      <td>False</td>\n      <td>False</td>\n      <td>False</td>\n    </tr>\n    <tr>\n      <th>12</th>\n      <td>False</td>\n      <td>False</td>\n      <td>False</td>\n      <td>False</td>\n      <td>False</td>\n      <td>False</td>\n    </tr>\n    <tr>\n      <th>13</th>\n      <td>False</td>\n      <td>False</td>\n      <td>False</td>\n      <td>False</td>\n      <td>False</td>\n      <td>False</td>\n    </tr>\n    <tr>\n      <th>14</th>\n      <td>False</td>\n      <td>False</td>\n      <td>False</td>\n      <td>False</td>\n      <td>False</td>\n      <td>False</td>\n    </tr>\n    <tr>\n      <th>15</th>\n      <td>False</td>\n      <td>False</td>\n      <td>False</td>\n      <td>False</td>\n      <td>False</td>\n      <td>False</td>\n    </tr>\n    <tr>\n      <th>16</th>\n      <td>False</td>\n      <td>False</td>\n      <td>False</td>\n      <td>False</td>\n      <td>False</td>\n      <td>False</td>\n    </tr>\n    <tr>\n      <th>17</th>\n      <td>False</td>\n      <td>False</td>\n      <td>False</td>\n      <td>False</td>\n      <td>False</td>\n      <td>False</td>\n    </tr>\n    <tr>\n      <th>18</th>\n      <td>False</td>\n      <td>False</td>\n      <td>False</td>\n      <td>False</td>\n      <td>False</td>\n      <td>False</td>\n    </tr>\n    <tr>\n      <th>19</th>\n      <td>False</td>\n      <td>False</td>\n      <td>False</td>\n      <td>False</td>\n      <td>False</td>\n      <td>False</td>\n    </tr>\n    <tr>\n      <th>20</th>\n      <td>False</td>\n      <td>False</td>\n      <td>False</td>\n      <td>False</td>\n      <td>False</td>\n      <td>False</td>\n    </tr>\n    <tr>\n      <th>21</th>\n      <td>False</td>\n      <td>False</td>\n      <td>False</td>\n      <td>False</td>\n      <td>False</td>\n      <td>False</td>\n    </tr>\n    <tr>\n      <th>22</th>\n      <td>False</td>\n      <td>False</td>\n      <td>False</td>\n      <td>False</td>\n      <td>False</td>\n      <td>False</td>\n    </tr>\n    <tr>\n      <th>23</th>\n      <td>False</td>\n      <td>False</td>\n      <td>False</td>\n      <td>False</td>\n      <td>False</td>\n      <td>False</td>\n    </tr>\n    <tr>\n      <th>24</th>\n      <td>False</td>\n      <td>False</td>\n      <td>False</td>\n      <td>False</td>\n      <td>False</td>\n      <td>False</td>\n    </tr>\n    <tr>\n      <th>25</th>\n      <td>False</td>\n      <td>False</td>\n      <td>False</td>\n      <td>False</td>\n      <td>False</td>\n      <td>False</td>\n    </tr>\n    <tr>\n      <th>26</th>\n      <td>False</td>\n      <td>False</td>\n      <td>False</td>\n      <td>False</td>\n      <td>False</td>\n      <td>False</td>\n    </tr>\n    <tr>\n      <th>27</th>\n      <td>False</td>\n      <td>False</td>\n      <td>False</td>\n      <td>False</td>\n      <td>False</td>\n      <td>False</td>\n    </tr>\n    <tr>\n      <th>28</th>\n      <td>False</td>\n      <td>False</td>\n      <td>False</td>\n      <td>False</td>\n      <td>False</td>\n      <td>False</td>\n    </tr>\n    <tr>\n      <th>29</th>\n      <td>False</td>\n      <td>False</td>\n      <td>False</td>\n      <td>False</td>\n      <td>False</td>\n      <td>False</td>\n    </tr>\n    <tr>\n      <th>30</th>\n      <td>False</td>\n      <td>False</td>\n      <td>False</td>\n      <td>False</td>\n      <td>False</td>\n      <td>False</td>\n    </tr>\n    <tr>\n      <th>31</th>\n      <td>False</td>\n      <td>False</td>\n      <td>False</td>\n      <td>False</td>\n      <td>False</td>\n      <td>False</td>\n    </tr>\n    <tr>\n      <th>32</th>\n      <td>False</td>\n      <td>False</td>\n      <td>False</td>\n      <td>False</td>\n      <td>False</td>\n      <td>False</td>\n    </tr>\n    <tr>\n      <th>33</th>\n      <td>False</td>\n      <td>False</td>\n      <td>False</td>\n      <td>False</td>\n      <td>False</td>\n      <td>False</td>\n    </tr>\n    <tr>\n      <th>34</th>\n      <td>False</td>\n      <td>False</td>\n      <td>False</td>\n      <td>False</td>\n      <td>False</td>\n      <td>False</td>\n    </tr>\n    <tr>\n      <th>35</th>\n      <td>False</td>\n      <td>False</td>\n      <td>False</td>\n      <td>False</td>\n      <td>False</td>\n      <td>False</td>\n    </tr>\n    <tr>\n      <th>36</th>\n      <td>False</td>\n      <td>False</td>\n      <td>False</td>\n      <td>False</td>\n      <td>False</td>\n      <td>False</td>\n    </tr>\n    <tr>\n      <th>37</th>\n      <td>False</td>\n      <td>False</td>\n      <td>False</td>\n      <td>False</td>\n      <td>False</td>\n      <td>False</td>\n    </tr>\n    <tr>\n      <th>38</th>\n      <td>False</td>\n      <td>False</td>\n      <td>False</td>\n      <td>False</td>\n      <td>False</td>\n      <td>False</td>\n    </tr>\n    <tr>\n      <th>39</th>\n      <td>False</td>\n      <td>False</td>\n      <td>False</td>\n      <td>False</td>\n      <td>False</td>\n      <td>False</td>\n    </tr>\n    <tr>\n      <th>40</th>\n      <td>False</td>\n      <td>False</td>\n      <td>False</td>\n      <td>False</td>\n      <td>False</td>\n      <td>False</td>\n    </tr>\n    <tr>\n      <th>41</th>\n      <td>False</td>\n      <td>False</td>\n      <td>False</td>\n      <td>False</td>\n      <td>False</td>\n      <td>False</td>\n    </tr>\n    <tr>\n      <th>42</th>\n      <td>False</td>\n      <td>False</td>\n      <td>False</td>\n      <td>False</td>\n      <td>False</td>\n      <td>False</td>\n    </tr>\n    <tr>\n      <th>43</th>\n      <td>False</td>\n      <td>False</td>\n      <td>False</td>\n      <td>False</td>\n      <td>False</td>\n      <td>False</td>\n    </tr>\n    <tr>\n      <th>44</th>\n      <td>False</td>\n      <td>False</td>\n      <td>False</td>\n      <td>False</td>\n      <td>False</td>\n      <td>False</td>\n    </tr>\n    <tr>\n      <th>45</th>\n      <td>False</td>\n      <td>False</td>\n      <td>False</td>\n      <td>False</td>\n      <td>False</td>\n      <td>False</td>\n    </tr>\n    <tr>\n      <th>46</th>\n      <td>False</td>\n      <td>False</td>\n      <td>False</td>\n      <td>False</td>\n      <td>False</td>\n      <td>False</td>\n    </tr>\n    <tr>\n      <th>47</th>\n      <td>False</td>\n      <td>False</td>\n      <td>False</td>\n      <td>False</td>\n      <td>False</td>\n      <td>False</td>\n    </tr>\n    <tr>\n      <th>48</th>\n      <td>False</td>\n      <td>False</td>\n      <td>False</td>\n      <td>False</td>\n      <td>False</td>\n      <td>False</td>\n    </tr>\n    <tr>\n      <th>49</th>\n      <td>False</td>\n      <td>False</td>\n      <td>False</td>\n      <td>False</td>\n      <td>False</td>\n      <td>False</td>\n    </tr>\n    <tr>\n      <th>50</th>\n      <td>False</td>\n      <td>True</td>\n      <td>True</td>\n      <td>True</td>\n      <td>True</td>\n      <td>True</td>\n    </tr>\n  </tbody>\n</table>\n</div>"
     },
     "execution_count": 8,
     "metadata": {},
     "output_type": "execute_result"
    }
   ],
   "source": [
    "df.isna()"
   ],
   "metadata": {
    "collapsed": false
   }
  },
  {
   "cell_type": "code",
   "execution_count": 9,
   "outputs": [
    {
     "data": {
      "text/plain": "      Undergraduate Major  Starting Median Salary  Mid-Career Median Salary   \n46             Psychology                 35900.0                   60400.0  \\\n47               Religion                 34100.0                   52000.0   \n48              Sociology                 36500.0                   58200.0   \n49                Spanish                 34000.0                   53100.0   \n50  Source: PayScale Inc.                     NaN                       NaN   \n\n    Mid-Career 10th Percentile Salary  Mid-Career 90th Percentile Salary Group  \n46                            31600.0                           127000.0  HASS  \n47                            29700.0                            96400.0  HASS  \n48                            30700.0                           118000.0  HASS  \n49                            31000.0                            96400.0  HASS  \n50                                NaN                                NaN   NaN  ",
      "text/html": "<div>\n<style scoped>\n    .dataframe tbody tr th:only-of-type {\n        vertical-align: middle;\n    }\n\n    .dataframe tbody tr th {\n        vertical-align: top;\n    }\n\n    .dataframe thead th {\n        text-align: right;\n    }\n</style>\n<table border=\"1\" class=\"dataframe\">\n  <thead>\n    <tr style=\"text-align: right;\">\n      <th></th>\n      <th>Undergraduate Major</th>\n      <th>Starting Median Salary</th>\n      <th>Mid-Career Median Salary</th>\n      <th>Mid-Career 10th Percentile Salary</th>\n      <th>Mid-Career 90th Percentile Salary</th>\n      <th>Group</th>\n    </tr>\n  </thead>\n  <tbody>\n    <tr>\n      <th>46</th>\n      <td>Psychology</td>\n      <td>35900.0</td>\n      <td>60400.0</td>\n      <td>31600.0</td>\n      <td>127000.0</td>\n      <td>HASS</td>\n    </tr>\n    <tr>\n      <th>47</th>\n      <td>Religion</td>\n      <td>34100.0</td>\n      <td>52000.0</td>\n      <td>29700.0</td>\n      <td>96400.0</td>\n      <td>HASS</td>\n    </tr>\n    <tr>\n      <th>48</th>\n      <td>Sociology</td>\n      <td>36500.0</td>\n      <td>58200.0</td>\n      <td>30700.0</td>\n      <td>118000.0</td>\n      <td>HASS</td>\n    </tr>\n    <tr>\n      <th>49</th>\n      <td>Spanish</td>\n      <td>34000.0</td>\n      <td>53100.0</td>\n      <td>31000.0</td>\n      <td>96400.0</td>\n      <td>HASS</td>\n    </tr>\n    <tr>\n      <th>50</th>\n      <td>Source: PayScale Inc.</td>\n      <td>NaN</td>\n      <td>NaN</td>\n      <td>NaN</td>\n      <td>NaN</td>\n      <td>NaN</td>\n    </tr>\n  </tbody>\n</table>\n</div>"
     },
     "execution_count": 9,
     "metadata": {},
     "output_type": "execute_result"
    }
   ],
   "source": [
    "df.tail()"
   ],
   "metadata": {
    "collapsed": false
   }
  },
  {
   "cell_type": "code",
   "execution_count": 10,
   "outputs": [],
   "source": [
    "clean_df = df.dropna()"
   ],
   "metadata": {
    "collapsed": false
   }
  },
  {
   "cell_type": "code",
   "execution_count": 11,
   "outputs": [
    {
     "data": {
      "text/plain": "   Undergraduate Major  Starting Median Salary  Mid-Career Median Salary   \n45   Political Science                 40800.0                   78200.0  \\\n46          Psychology                 35900.0                   60400.0   \n47            Religion                 34100.0                   52000.0   \n48           Sociology                 36500.0                   58200.0   \n49             Spanish                 34000.0                   53100.0   \n\n    Mid-Career 10th Percentile Salary  Mid-Career 90th Percentile Salary Group  \n45                            41200.0                           168000.0  HASS  \n46                            31600.0                           127000.0  HASS  \n47                            29700.0                            96400.0  HASS  \n48                            30700.0                           118000.0  HASS  \n49                            31000.0                            96400.0  HASS  ",
      "text/html": "<div>\n<style scoped>\n    .dataframe tbody tr th:only-of-type {\n        vertical-align: middle;\n    }\n\n    .dataframe tbody tr th {\n        vertical-align: top;\n    }\n\n    .dataframe thead th {\n        text-align: right;\n    }\n</style>\n<table border=\"1\" class=\"dataframe\">\n  <thead>\n    <tr style=\"text-align: right;\">\n      <th></th>\n      <th>Undergraduate Major</th>\n      <th>Starting Median Salary</th>\n      <th>Mid-Career Median Salary</th>\n      <th>Mid-Career 10th Percentile Salary</th>\n      <th>Mid-Career 90th Percentile Salary</th>\n      <th>Group</th>\n    </tr>\n  </thead>\n  <tbody>\n    <tr>\n      <th>45</th>\n      <td>Political Science</td>\n      <td>40800.0</td>\n      <td>78200.0</td>\n      <td>41200.0</td>\n      <td>168000.0</td>\n      <td>HASS</td>\n    </tr>\n    <tr>\n      <th>46</th>\n      <td>Psychology</td>\n      <td>35900.0</td>\n      <td>60400.0</td>\n      <td>31600.0</td>\n      <td>127000.0</td>\n      <td>HASS</td>\n    </tr>\n    <tr>\n      <th>47</th>\n      <td>Religion</td>\n      <td>34100.0</td>\n      <td>52000.0</td>\n      <td>29700.0</td>\n      <td>96400.0</td>\n      <td>HASS</td>\n    </tr>\n    <tr>\n      <th>48</th>\n      <td>Sociology</td>\n      <td>36500.0</td>\n      <td>58200.0</td>\n      <td>30700.0</td>\n      <td>118000.0</td>\n      <td>HASS</td>\n    </tr>\n    <tr>\n      <th>49</th>\n      <td>Spanish</td>\n      <td>34000.0</td>\n      <td>53100.0</td>\n      <td>31000.0</td>\n      <td>96400.0</td>\n      <td>HASS</td>\n    </tr>\n  </tbody>\n</table>\n</div>"
     },
     "execution_count": 11,
     "metadata": {},
     "output_type": "execute_result"
    }
   ],
   "source": [
    "clean_df.tail()"
   ],
   "metadata": {
    "collapsed": false
   }
  },
  {
   "cell_type": "code",
   "execution_count": 12,
   "outputs": [
    {
     "data": {
      "text/plain": "0     46000.0\n1     57700.0\n2     42600.0\n3     36800.0\n4     41600.0\n5     35800.0\n6     38800.0\n7     43000.0\n8     63200.0\n9     42600.0\n10    53900.0\n11    38100.0\n12    61400.0\n13    55900.0\n14    53700.0\n15    35000.0\n16    35900.0\n17    50100.0\n18    34900.0\n19    60900.0\n20    38000.0\n21    37900.0\n22    47900.0\n23    39100.0\n24    41200.0\n25    43500.0\n26    35700.0\n27    38800.0\n28    39200.0\n29    37800.0\n30    57700.0\n31    49100.0\n32    36100.0\n33    40900.0\n34    35600.0\n35    49200.0\n36    40800.0\n37    45400.0\n38    57900.0\n39    35900.0\n40    54200.0\n41    39900.0\n42    39900.0\n43    74300.0\n44    50300.0\n45    40800.0\n46    35900.0\n47    34100.0\n48    36500.0\n49    34000.0\nName: Starting Median Salary, dtype: float64"
     },
     "execution_count": 12,
     "metadata": {},
     "output_type": "execute_result"
    }
   ],
   "source": [
    "clean_df['Starting Median Salary']"
   ],
   "metadata": {
    "collapsed": false
   }
  },
  {
   "cell_type": "code",
   "execution_count": 14,
   "outputs": [
    {
     "data": {
      "text/plain": "74300.0"
     },
     "execution_count": 14,
     "metadata": {},
     "output_type": "execute_result"
    }
   ],
   "source": [
    "clean_df['Starting Median Salary'].max()"
   ],
   "metadata": {
    "collapsed": false
   }
  },
  {
   "cell_type": "code",
   "execution_count": 15,
   "outputs": [
    {
     "data": {
      "text/plain": "43"
     },
     "execution_count": 15,
     "metadata": {},
     "output_type": "execute_result"
    }
   ],
   "source": [
    "clean_df['Starting Median Salary'].idxmax()"
   ],
   "metadata": {
    "collapsed": false
   }
  },
  {
   "cell_type": "code",
   "execution_count": 16,
   "outputs": [
    {
     "data": {
      "text/plain": "'Physician Assistant'"
     },
     "execution_count": 16,
     "metadata": {},
     "output_type": "execute_result"
    }
   ],
   "source": [
    "clean_df['Undergraduate Major'].loc[43]"
   ],
   "metadata": {
    "collapsed": false
   }
  },
  {
   "cell_type": "code",
   "execution_count": 17,
   "outputs": [
    {
     "data": {
      "text/plain": "'Physician Assistant'"
     },
     "execution_count": 17,
     "metadata": {},
     "output_type": "execute_result"
    }
   ],
   "source": [
    "clean_df['Undergraduate Major'][43]"
   ],
   "metadata": {
    "collapsed": false
   }
  },
  {
   "cell_type": "code",
   "execution_count": 18,
   "outputs": [
    {
     "data": {
      "text/plain": "Undergraduate Major                  Physician Assistant\nStarting Median Salary                           74300.0\nMid-Career Median Salary                         91700.0\nMid-Career 10th Percentile Salary                66400.0\nMid-Career 90th Percentile Salary               124000.0\nGroup                                               STEM\nName: 43, dtype: object"
     },
     "execution_count": 18,
     "metadata": {},
     "output_type": "execute_result"
    }
   ],
   "source": [
    "clean_df.loc[43]"
   ],
   "metadata": {
    "collapsed": false
   }
  },
  {
   "cell_type": "code",
   "execution_count": 19,
   "outputs": [
    {
     "ename": "KeyError",
     "evalue": "43",
     "output_type": "error",
     "traceback": [
      "\u001B[0;31m---------------------------------------------------------------------------\u001B[0m",
      "\u001B[0;31mKeyError\u001B[0m                                  Traceback (most recent call last)",
      "File \u001B[0;32m/Library/Frameworks/Python.framework/Versions/3.10/lib/python3.10/site-packages/pandas/core/indexes/base.py:3652\u001B[0m, in \u001B[0;36mIndex.get_loc\u001B[0;34m(self, key)\u001B[0m\n\u001B[1;32m   3651\u001B[0m \u001B[38;5;28;01mtry\u001B[39;00m:\n\u001B[0;32m-> 3652\u001B[0m     \u001B[38;5;28;01mreturn\u001B[39;00m \u001B[38;5;28;43mself\u001B[39;49m\u001B[38;5;241;43m.\u001B[39;49m\u001B[43m_engine\u001B[49m\u001B[38;5;241;43m.\u001B[39;49m\u001B[43mget_loc\u001B[49m\u001B[43m(\u001B[49m\u001B[43mcasted_key\u001B[49m\u001B[43m)\u001B[49m\n\u001B[1;32m   3653\u001B[0m \u001B[38;5;28;01mexcept\u001B[39;00m \u001B[38;5;167;01mKeyError\u001B[39;00m \u001B[38;5;28;01mas\u001B[39;00m err:\n",
      "File \u001B[0;32m/Library/Frameworks/Python.framework/Versions/3.10/lib/python3.10/site-packages/pandas/_libs/index.pyx:147\u001B[0m, in \u001B[0;36mpandas._libs.index.IndexEngine.get_loc\u001B[0;34m()\u001B[0m\n",
      "File \u001B[0;32m/Library/Frameworks/Python.framework/Versions/3.10/lib/python3.10/site-packages/pandas/_libs/index.pyx:176\u001B[0m, in \u001B[0;36mpandas._libs.index.IndexEngine.get_loc\u001B[0;34m()\u001B[0m\n",
      "File \u001B[0;32mpandas/_libs/hashtable_class_helper.pxi:7080\u001B[0m, in \u001B[0;36mpandas._libs.hashtable.PyObjectHashTable.get_item\u001B[0;34m()\u001B[0m\n",
      "File \u001B[0;32mpandas/_libs/hashtable_class_helper.pxi:7088\u001B[0m, in \u001B[0;36mpandas._libs.hashtable.PyObjectHashTable.get_item\u001B[0;34m()\u001B[0m\n",
      "\u001B[0;31mKeyError\u001B[0m: 43",
      "\nThe above exception was the direct cause of the following exception:\n",
      "\u001B[0;31mKeyError\u001B[0m                                  Traceback (most recent call last)",
      "Cell \u001B[0;32mIn[19], line 1\u001B[0m\n\u001B[0;32m----> 1\u001B[0m \u001B[43mclean_df\u001B[49m\u001B[43m[\u001B[49m\u001B[38;5;241;43m43\u001B[39;49m\u001B[43m]\u001B[49m\n",
      "File \u001B[0;32m/Library/Frameworks/Python.framework/Versions/3.10/lib/python3.10/site-packages/pandas/core/frame.py:3760\u001B[0m, in \u001B[0;36mDataFrame.__getitem__\u001B[0;34m(self, key)\u001B[0m\n\u001B[1;32m   3758\u001B[0m \u001B[38;5;28;01mif\u001B[39;00m \u001B[38;5;28mself\u001B[39m\u001B[38;5;241m.\u001B[39mcolumns\u001B[38;5;241m.\u001B[39mnlevels \u001B[38;5;241m>\u001B[39m \u001B[38;5;241m1\u001B[39m:\n\u001B[1;32m   3759\u001B[0m     \u001B[38;5;28;01mreturn\u001B[39;00m \u001B[38;5;28mself\u001B[39m\u001B[38;5;241m.\u001B[39m_getitem_multilevel(key)\n\u001B[0;32m-> 3760\u001B[0m indexer \u001B[38;5;241m=\u001B[39m \u001B[38;5;28;43mself\u001B[39;49m\u001B[38;5;241;43m.\u001B[39;49m\u001B[43mcolumns\u001B[49m\u001B[38;5;241;43m.\u001B[39;49m\u001B[43mget_loc\u001B[49m\u001B[43m(\u001B[49m\u001B[43mkey\u001B[49m\u001B[43m)\u001B[49m\n\u001B[1;32m   3761\u001B[0m \u001B[38;5;28;01mif\u001B[39;00m is_integer(indexer):\n\u001B[1;32m   3762\u001B[0m     indexer \u001B[38;5;241m=\u001B[39m [indexer]\n",
      "File \u001B[0;32m/Library/Frameworks/Python.framework/Versions/3.10/lib/python3.10/site-packages/pandas/core/indexes/base.py:3654\u001B[0m, in \u001B[0;36mIndex.get_loc\u001B[0;34m(self, key)\u001B[0m\n\u001B[1;32m   3652\u001B[0m     \u001B[38;5;28;01mreturn\u001B[39;00m \u001B[38;5;28mself\u001B[39m\u001B[38;5;241m.\u001B[39m_engine\u001B[38;5;241m.\u001B[39mget_loc(casted_key)\n\u001B[1;32m   3653\u001B[0m \u001B[38;5;28;01mexcept\u001B[39;00m \u001B[38;5;167;01mKeyError\u001B[39;00m \u001B[38;5;28;01mas\u001B[39;00m err:\n\u001B[0;32m-> 3654\u001B[0m     \u001B[38;5;28;01mraise\u001B[39;00m \u001B[38;5;167;01mKeyError\u001B[39;00m(key) \u001B[38;5;28;01mfrom\u001B[39;00m \u001B[38;5;21;01merr\u001B[39;00m\n\u001B[1;32m   3655\u001B[0m \u001B[38;5;28;01mexcept\u001B[39;00m \u001B[38;5;167;01mTypeError\u001B[39;00m:\n\u001B[1;32m   3656\u001B[0m     \u001B[38;5;66;03m# If we have a listlike key, _check_indexing_error will raise\u001B[39;00m\n\u001B[1;32m   3657\u001B[0m     \u001B[38;5;66;03m#  InvalidIndexError. Otherwise we fall through and re-raise\u001B[39;00m\n\u001B[1;32m   3658\u001B[0m     \u001B[38;5;66;03m#  the TypeError.\u001B[39;00m\n\u001B[1;32m   3659\u001B[0m     \u001B[38;5;28mself\u001B[39m\u001B[38;5;241m.\u001B[39m_check_indexing_error(key)\n",
      "\u001B[0;31mKeyError\u001B[0m: 43"
     ]
    }
   ],
   "source": [],
   "metadata": {
    "collapsed": false
   }
  },
  {
   "cell_type": "code",
   "execution_count": null,
   "outputs": [],
   "source": [],
   "metadata": {
    "collapsed": false
   }
  }
 ],
 "metadata": {
  "kernelspec": {
   "display_name": "Python 3",
   "language": "python",
   "name": "python3"
  },
  "language_info": {
   "codemirror_mode": {
    "name": "ipython",
    "version": 2
   },
   "file_extension": ".py",
   "mimetype": "text/x-python",
   "name": "python",
   "nbconvert_exporter": "python",
   "pygments_lexer": "ipython2",
   "version": "2.7.6"
  }
 },
 "nbformat": 4,
 "nbformat_minor": 0
}
